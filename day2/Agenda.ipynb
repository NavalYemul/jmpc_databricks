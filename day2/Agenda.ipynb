{
 "cells": [
  {
   "cell_type": "code",
   "execution_count": 0,
   "metadata": {
    "application/vnd.databricks.v1+cell": {
     "cellMetadata": {},
     "inputWidgets": {},
     "nuid": "3ae047f3-30c3-4bfe-80cb-42d4dd2cb65c",
     "showTitle": false,
     "tableResultSettingsMap": {},
     "title": ""
    }
   },
   "outputs": [],
   "source": [
    "Lakehouse\n",
    "\n",
    "Medaillion Architecture\n",
    "Multihop \n",
    "bronze-silver-gold\n",
    "\n",
    "\n",
    "table formats\n",
    "delta\n",
    "iceberg\n",
    "\n",
    "deep dive in delta\n",
    "features of delta\n",
    "optimization of delta\n",
    "\n",
    "\n",
    "spark ui (internals)\n",
    "Medaillion- handson \n",
    "workflows automation \n",
    "\n",
    "\n",
    "Databricks Repos"
   ]
  }
 ],
 "metadata": {
  "application/vnd.databricks.v1+notebook": {
   "computePreferences": null,
   "dashboards": [],
   "environmentMetadata": {
    "base_environment": "",
    "environment_version": "2"
   },
   "inputWidgetPreferences": null,
   "language": "sql",
   "notebookMetadata": {
    "pythonIndentUnit": 4
   },
   "notebookName": "Agenda",
   "widgets": {}
  },
  "language_info": {
   "name": "sql"
  }
 },
 "nbformat": 4,
 "nbformat_minor": 0
}
